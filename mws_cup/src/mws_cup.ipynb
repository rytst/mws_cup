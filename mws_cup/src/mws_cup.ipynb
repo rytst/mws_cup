{
 "cells": [
  {
   "cell_type": "code",
   "execution_count": 15,
   "id": "e2132a36-4d90-4ff4-8cda-74e5995c45f9",
   "metadata": {},
   "outputs": [],
   "source": [
    "import pandas as pd"
   ]
  },
  {
   "cell_type": "code",
   "execution_count": 26,
   "id": "f172b871-ab36-4a02-8286-cda047b44be9",
   "metadata": {},
   "outputs": [],
   "source": [
    "# Read data\n",
    "df = pd.read_csv('../../mws_cup/data/.csv)"
   ]
  },
  {
   "cell_type": "code",
   "execution_count": null,
   "id": "e4a0e17e-c851-4ddc-a485-6baf85c80e2d",
   "metadata": {},
   "outputs": [],
   "source": [
    "# output data for submission\n",
    "output.to_csv('../../mws_cup/submission/submission.csv', index=False)"
   ]
  }
 ],
 "metadata": {
  "kernelspec": {
   "display_name": "Python 3 (ipykernel)",
   "language": "python",
   "name": "python3"
  },
  "language_info": {
   "codemirror_mode": {
    "name": "ipython",
    "version": 3
   },
   "file_extension": ".py",
   "mimetype": "text/x-python",
   "name": "python",
   "nbconvert_exporter": "python",
   "pygments_lexer": "ipython3",
   "version": "3.10.12"
  }
 },
 "nbformat": 4,
 "nbformat_minor": 5
}
