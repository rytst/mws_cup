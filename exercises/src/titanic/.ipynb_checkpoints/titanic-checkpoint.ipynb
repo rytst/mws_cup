{
 "cells": [
  {
   "cell_type": "code",
   "execution_count": null,
   "id": "7b52f831-db97-47e2-8695-40d9f1868a85",
   "metadata": {},
   "outputs": [],
   "source": []
  }
 ],
 "metadata": {
  "kernelspec": {
   "display_name": "Python 3 (ipykernel)",
   "language": "python",
   "name": "python3"
  },
  "language_info": {
   "codemirror_mode": {
    "name": "ipython",
    "version": 3
   },
   "file_extension": ".py",
   "mimetype": "text/x-python",
   "name": "python",
   "nbconvert_exporter": "python",
   "pygments_lexer": "ipython3",
   "version": "3.10.12"
  }
 },
 "nbformat": 4,
 "nbformat_minor": 5
}
